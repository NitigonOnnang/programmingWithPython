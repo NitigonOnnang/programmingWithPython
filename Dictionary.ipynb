{
  "nbformat": 4,
  "nbformat_minor": 0,
  "metadata": {
    "colab": {
      "provenance": [],
      "include_colab_link": true
    },
    "kernelspec": {
      "name": "python3",
      "display_name": "Python 3"
    },
    "language_info": {
      "name": "python"
    }
  },
  "cells": [
    {
      "cell_type": "markdown",
      "metadata": {
        "id": "view-in-github",
        "colab_type": "text"
      },
      "source": [
        "<a href=\"https://colab.research.google.com/github/NitigonOnnang/programmingWithPython/blob/main/Dictionary.ipynb\" target=\"_parent\"><img src=\"https://colab.research.google.com/assets/colab-badge.svg\" alt=\"Open In Colab\"/></a>"
      ]
    },
    {
      "cell_type": "markdown",
      "source": [
        "<img src='https://images.shiksha.com/mediadata/images/articles/1723098997phpe4XpdY.jpeg'>"
      ],
      "metadata": {
        "id": "IMiS-4gFvhre"
      }
    },
    {
      "cell_type": "markdown",
      "source": [
        "<img src='https://education.launchcode.org/lchs/_images/dictionary.png'>"
      ],
      "metadata": {
        "id": "fBBZZ_0Pwl-e"
      }
    },
    {
      "cell_type": "markdown",
      "source": [
        "<img src='https://images.theengineeringprojects.com/image/main/2022/03/1-18.jpg'>"
      ],
      "metadata": {
        "id": "z8wzn-5IwrGN"
      }
    },
    {
      "cell_type": "markdown",
      "source": [
        "<img src='https://logicmojo.com/assets/dist/new_pages/images/pythondict.png'>"
      ],
      "metadata": {
        "id": "GEzDNzGezsNy"
      }
    },
    {
      "cell_type": "markdown",
      "source": [
        "# **รูปแบบ**\n",
        "\n",
        "\n",
        "```\n",
        "d = {\n",
        "    <key>: <value>,\n",
        "    <key>: <value>,\n",
        "      .\n",
        "      .\n",
        "      .\n",
        "    <key>: <value>\n",
        "}\n",
        "```\n",
        "\n",
        "\n",
        "\n",
        "\n",
        "\n",
        "```\n",
        "app_users= {\"username\": \"user1\",\"age\": 20, \"email\": \"user1@example.com\", \"active\": True}\n",
        "```\n",
        "\n"
      ],
      "metadata": {
        "id": "DnJn9CEdzPQ2"
      }
    },
    {
      "cell_type": "code",
      "execution_count": 1,
      "metadata": {
        "id": "99KdxYCeAbwO",
        "colab": {
          "base_uri": "https://localhost:8080/"
        },
        "outputId": "e81b1c6c-822f-4c29-fad2-7a508b64d725"
      },
      "outputs": [
        {
          "output_type": "stream",
          "name": "stdout",
          "text": [
            "{'username': 'user1', 'age': 20, 'email': 'user1@example.com', 'active': True}\n"
          ]
        }
      ],
      "source": [
        "#ตัวอย่างที่ 1 : แสดงรายการ Dictionary\n",
        "app_users= {\"username\": \"user1\",\"age\": 20, \"email\": \"user1@example.com\", \"active\": True}\n",
        "print(app_users)"
      ]
    },
    {
      "cell_type": "markdown",
      "source": [
        "# <font color='darkred'>**ในดิกชันนารีจะไม่อนุญาตให้มีข้อมูลที่เป็น key ซ้ำกัน**</font>"
      ],
      "metadata": {
        "id": "JLQ8b9Ka5dCU"
      }
    },
    {
      "cell_type": "code",
      "source": [
        "#ตัวอย่างที่ 2 : กรณีที่มีการใช้ key ซ้ำกัน\n",
        "app_users= {\"username\": \"user1\",\"age\": 20, \"email\": \"user1@example.com\", \"active\": True,\"age\":40}\n",
        "print(app_users)\n"
      ],
      "metadata": {
        "id": "DXsQ94jJD5lf",
        "colab": {
          "base_uri": "https://localhost:8080/"
        },
        "outputId": "809d684e-9f59-4881-8fa6-b4b7d54beb35"
      },
      "execution_count": 2,
      "outputs": [
        {
          "output_type": "stream",
          "name": "stdout",
          "text": [
            "{'username': 'user1', 'age': 40, 'email': 'user1@example.com', 'active': True}\n"
          ]
        }
      ]
    },
    {
      "cell_type": "markdown",
      "source": [
        "# <font color='darkgreen'>**การเข้าถึงข้อมูลในดิกชันนารี**</font>\n",
        "การเข้าถึงข้อมูลก็ใช้<font color='red'>**ชื่อดิกชันนารี**</font>ตามด้วย <font color='red'>**[ใส่ชื่อคีย์ ]** </font>"
      ],
      "metadata": {
        "id": "aXLzIe446RYT"
      }
    },
    {
      "cell_type": "code",
      "source": [
        "#ตัวอย่างที่ 3 : การเข้าถึงข้อมูลใน dictionary\n",
        "app_users= {\"username\": \"user1\",\"age\": 20, \"email\": \"user1@example.com\", \"active\": True}\n",
        "print(app_users[\"email\"])"
      ],
      "metadata": {
        "id": "F9BVD_wAG4GN"
      },
      "execution_count": null,
      "outputs": []
    },
    {
      "cell_type": "markdown",
      "source": [
        "ทั้งคีย์และค่าจะเป็นข้อมูลชนิดไหนก็ได้ อาจเป็นตัวเลขก็ได้ เช่น ดิกชันนารีที่เก็บชื่อของโปเกมอน"
      ],
      "metadata": {
        "id": "wGQbOXVL7eI3"
      }
    },
    {
      "cell_type": "code",
      "source": [
        "pokemon = {151: 'mew',\n",
        "152: 'chicorita', 153: 'bayleaf',154: 'meganium',\n",
        "155: 'hinoarashi', 156: 'magmarashi',157: 'bakphoon',\n",
        "158: 'waninoko',159: 'alligates', 160: 'ordile'}\n",
        "print(pokemon[151])"
      ],
      "metadata": {
        "id": "RAFHC0ZxIYcM"
      },
      "execution_count": null,
      "outputs": []
    },
    {
      "cell_type": "markdown",
      "source": [
        "# <font color='darkgreen'>**keys, values และ items**</font>\n",
        "รายการคีย์ทั้งหมดสามารถแสดงได้โดยเมธอด .keys"
      ],
      "metadata": {
        "id": "9jwHB-4U8UZT"
      }
    },
    {
      "cell_type": "code",
      "source": [
        "pokemon = {151: 'mew',\n",
        "152: 'chicorita', 153: 'bayleaf',154: 'meganium',\n",
        "155: 'hinoarashi', 156: 'magmarashi',157: 'bakphoon',\n",
        "158: 'waninoko',159: 'alligates', 160: 'ordile'}\n"
      ],
      "metadata": {
        "id": "dgMfrVyAL0mF"
      },
      "execution_count": null,
      "outputs": []
    },
    {
      "cell_type": "markdown",
      "source": [
        "ค่าในดิกชันนารีสามารถแสดงทั้งหมดโดยเมธอด .values"
      ],
      "metadata": {
        "id": "ouTpVJCd86BO"
      }
    },
    {
      "cell_type": "code",
      "source": [
        "pokemon = {151: 'mew',\n",
        "152: 'chicorita', 153: 'bayleaf',154: 'meganium',\n",
        "155: 'hinoarashi', 156: 'magmarashi',157: 'bakphoon',\n",
        "158: 'waninoko',159: 'alligates', 160: 'ordile'}\n"
      ],
      "metadata": {
        "id": "_VyoW7tAMfT_"
      },
      "execution_count": null,
      "outputs": []
    },
    {
      "cell_type": "markdown",
      "source": [
        "ถ้าต้องการให้แสดงคีย์กับค่าคู่กันในรูปของทูเพิลให้ใช้เมธอด .items"
      ],
      "metadata": {
        "id": "jiYUUaev9CRR"
      }
    },
    {
      "cell_type": "code",
      "source": [
        "pokemon = {151: 'mew',\n",
        "152: 'chicorita', 153: 'bayleaf',154: 'meganium',\n",
        "155: 'hinoarashi', 156: 'magmarashi',157: 'bakphoon',\n",
        "158: 'waninoko',159: 'alligates', 160: 'ordile'}"
      ],
      "metadata": {
        "id": "WcaK5rQMdhaW"
      },
      "execution_count": null,
      "outputs": []
    },
    {
      "cell_type": "markdown",
      "source": [
        "# <font color='darkgreen'>**การใช้ for คู่กับดิกชันนารี**</font>\n",
        "เมื่อใช้ for กับดิกชันนารี ตัวแปรจะไล่ตามคีย์ ไม่ใช่ค่า"
      ],
      "metadata": {
        "id": "ZnwOPTnN9KuN"
      }
    },
    {
      "cell_type": "code",
      "source": [
        "pokemon = {151: 'mew',\n",
        "152: 'chicorita', 153: 'bayleaf',154: 'meganium',\n",
        "155: 'hinoarashi', 156: 'magmarashi',157: 'bakphoon',\n",
        "158: 'waninoko',159: 'alligates', 160: 'ordile'}\n",
        "for s in pokemon:\n",
        "    print(s,end=' ')\n"
      ],
      "metadata": {
        "id": "tRfBDX4Cheln"
      },
      "execution_count": null,
      "outputs": []
    },
    {
      "cell_type": "markdown",
      "source": [
        "# <font color='darkgreen'>**การเพิ่มข้อมูลและแก้ไขดิกชันนารี**</font>"
      ],
      "metadata": {
        "id": "SPErG5zT-FB9"
      }
    },
    {
      "cell_type": "code",
      "source": [
        "phuenthi = {'นครราชสีมา': 20494, 'เชียงใหม่': 20107,\n",
        "'กาญจนบุรี': 19483, 'ตาก': 16407,\n",
        "'อุบลราชธานี': 15774, 'สุราษฎร์ธานี': 12891}\n",
        "phuenthi['ชัยภูมิ'] = 12778\n",
        "print(phuenthi)"
      ],
      "metadata": {
        "id": "6ywCymith1tK"
      },
      "execution_count": null,
      "outputs": []
    },
    {
      "cell_type": "markdown",
      "source": [
        "อาจใช้เมธอด .update เพื่อรับเอาข้อมูลจากดิกชันนารีอื่นมาก็ได้"
      ],
      "metadata": {
        "id": "03UJUDt5_2Lm"
      }
    },
    {
      "cell_type": "code",
      "source": [
        "phuenthi.update({'เพชรบูรณ์': 12668, 'ลำปาง': 12534})\n",
        "print(phuenthi)\n"
      ],
      "metadata": {
        "id": "uXUeu9hSnKGU"
      },
      "execution_count": null,
      "outputs": []
    },
    {
      "cell_type": "markdown",
      "source": [
        "# <font color='darkgreen'>**การใช้ for สร้างดิกชันนารี**</font>\n",
        "เช่นเดียวกับลิสต์ ดิกชันนารีก็สามารถสร้างขึ้นจาก for ได้"
      ],
      "metadata": {
        "id": "gCmCpLUTAJv3"
      }
    },
    {
      "cell_type": "code",
      "source": [
        "f = {x:3*x+2 for x in range(100)} # สร้างฟังก์ชัน 3x+2 ที่มีโดเมนเป็นจำนวนเต็ม 0 ถึง 99\n",
        "print(f)"
      ],
      "metadata": {
        "id": "tyah_ya7nto-"
      },
      "execution_count": null,
      "outputs": []
    },
    {
      "cell_type": "code",
      "source": [
        "f = {} # สร้างดิกชันนารีเปล่าขึ้นมาก่อน\n",
        "for x in range(100):\n",
        "    f[x] = 3*x+2 # ใส่เพิ่มไปทีละค่า"
      ],
      "metadata": {
        "id": "8W0yheKJA04P"
      },
      "execution_count": null,
      "outputs": []
    },
    {
      "cell_type": "markdown",
      "source": [
        "# <font color='darkgreen'>**การลบข้อมูลในดิกชันนารี**</font>\n",
        "สามารถลบทีละตัวได้โดยใช้เมธอด .pop แล้วระบุคีย์ที่ต้องการลบ"
      ],
      "metadata": {
        "id": "KNqXw4VQA70w"
      }
    },
    {
      "cell_type": "code",
      "source": [
        "python1 = {5966208114: 54, 5966100309: 59, 5966117558: 49,5966209223: 62, 5966195674: 48, 5966119902: 43}\n",
        "python1.pop(5966119902)"
      ],
      "metadata": {
        "id": "NLlGy9IQBKrb"
      },
      "execution_count": null,
      "outputs": []
    },
    {
      "cell_type": "markdown",
      "source": [
        "อาจลบโดยใช้คำสั่ง del ก็ได้\n",
        "\n",
        "\n",
        "```\n",
        "del ชื่อดิกชันนารี[คีย์ที่ต้องการลบ]\n",
        "```\n",
        "\n"
      ],
      "metadata": {
        "id": "lR7Ta_uDBWFJ"
      }
    },
    {
      "cell_type": "code",
      "source": [
        "del python1[5966195674]"
      ],
      "metadata": {
        "id": "gUYYVKpwBfUx"
      },
      "execution_count": null,
      "outputs": []
    },
    {
      "cell_type": "code",
      "source": [
        "python1.clear()"
      ],
      "metadata": {
        "id": "lgKA_YFwBiQx"
      },
      "execution_count": null,
      "outputs": []
    },
    {
      "cell_type": "code",
      "source": [
        "del python1"
      ],
      "metadata": {
        "id": "JYAvkaOJBnX2"
      },
      "execution_count": null,
      "outputs": []
    },
    {
      "cell_type": "markdown",
      "source": [
        "# <font color='darkgreen'>**คีย์หรือค่ามากกว่าหนึ่งตัว**</font>"
      ],
      "metadata": {
        "id": "G0GC-jGqBvkW"
      }
    },
    {
      "cell_type": "code",
      "source": [
        "students = {\n",
        "    \"5966208114\": {\"name\": \"สมชาย\", \"age\": 18, \"grade\": \"A\"},\n",
        "    \"5966100309\": {\"name\": \"สมศรี\", \"age\": 19, \"grade\": \"B\"},\n",
        "    \"5966117558\": {\"name\": \"วิรัช\", \"age\": 20, \"grade\": \"C\"},\n",
        "    \"5966209223\": {\"name\": \"มานะ\", \"age\": 18, \"grade\": \"B\"},\n",
        "    \"5966195674\": {\"name\": \"ศิริพร\", \"age\": 19, \"grade\": \"A\"}\n",
        "}\n"
      ],
      "metadata": {
        "id": "18J10KfXB_Si"
      },
      "execution_count": null,
      "outputs": []
    },
    {
      "cell_type": "code",
      "source": [],
      "metadata": {
        "id": "jhYxB6ntoT-K"
      },
      "execution_count": null,
      "outputs": []
    }
  ]
}
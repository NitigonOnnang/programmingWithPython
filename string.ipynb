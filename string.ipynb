{
  "nbformat": 4,
  "nbformat_minor": 0,
  "metadata": {
    "colab": {
      "provenance": [],
      "include_colab_link": true
    },
    "kernelspec": {
      "name": "python3",
      "display_name": "Python 3"
    },
    "language_info": {
      "name": "python"
    }
  },
  "cells": [
    {
      "cell_type": "markdown",
      "metadata": {
        "id": "view-in-github",
        "colab_type": "text"
      },
      "source": [
        "<a href=\"https://colab.research.google.com/github/NitigonOnnang/programmingWithPython/blob/main/string.ipynb\" target=\"_parent\"><img src=\"https://colab.research.google.com/assets/colab-badge.svg\" alt=\"Open In Colab\"/></a>"
      ]
    },
    {
      "cell_type": "markdown",
      "source": [
        "<img src='https://files.realpython.com/media/Strings-and-Character-Data-in-Python_Watermarked.797803948b10.jpg'>"
      ],
      "metadata": {
        "id": "BT3Q_rVGFafp"
      }
    },
    {
      "cell_type": "markdown",
      "source": [
        "<iframe width=\"560\" height=\"315\" src=\"https://www.youtube.com/watch?v=LQejbZ4Mm24\" frameborder=\"0\" allowfullscreen></iframe>"
      ],
      "metadata": {
        "id": "viwzzoUwjC96"
      }
    },
    {
      "cell_type": "markdown",
      "source": [
        "# 🎥 [**คลิกเพื่อชมวิดีโอบน YouTube**](https://www.youtube.com/watch?v=LQejbZ4Mm24)\n"
      ],
      "metadata": {
        "id": "c9k_b1kotHk5"
      }
    },
    {
      "cell_type": "markdown",
      "source": [
        "<img src='https://jeevangupta.com/wp-content/uploads/2022/04/Python-String-Tutorial.png'>"
      ],
      "metadata": {
        "id": "H1zmEdSVF_jh"
      }
    },
    {
      "cell_type": "markdown",
      "source": [
        "# <font color='darkgreen'>**ความยาวของสายอักขระ**</font>\n",
        "เราสามารถหาความยาวของสายอักขระได้ โดยการใช้ฟังก์ชัน **`len()`**"
      ],
      "metadata": {
        "id": "YZLzcYx40YCW"
      }
    },
    {
      "cell_type": "code",
      "execution_count": null,
      "metadata": {
        "id": "HPY1i4L6i38-"
      },
      "outputs": [],
      "source": [
        "msg = 'Believe you can and you’re halfway there'\n",
        "cnx = 'ดอยสุเทพเป็นศรี ประเพณีเป็นสง่า บุพชาติล้วนงามตา'\n",
        "print(len(cnx))"
      ]
    },
    {
      "cell_type": "markdown",
      "source": [
        "# 🎥 [**คลิกเพื่อชมวิดีโอบน YouTube**](https://www.youtube.com/watch?v=GRslOYWdl3w)"
      ],
      "metadata": {
        "id": "_G6-PpwquTHo"
      }
    },
    {
      "cell_type": "markdown",
      "source": [
        "# <font color='darkgreen'>**การเข้าถึงสมาชิกในสายอักขระ**</font>\n",
        "<img src=\"https://cdn.educba.com/academy/wp-content/uploads/2023/07/Arrays-in-Python.jpg\" width=\"70%\" height=\"70%\">"
      ],
      "metadata": {
        "id": "X_md2gGUsqjy"
      }
    },
    {
      "cell_type": "code",
      "source": [
        "msg1 = 'Don’t cry because it’s over, smile because it happened'\n",
        "#print(msg1[0])\n",
        "#print(msg1[8])\n",
        "#print(msg1[-5])\n",
        "print(msg1[25:])"
      ],
      "metadata": {
        "id": "Rj9zHms7s85c",
        "colab": {
          "base_uri": "https://localhost:8080/"
        },
        "outputId": "9bae3b17-ed5d-42a3-c685-0c5447ea36ad"
      },
      "execution_count": null,
      "outputs": [
        {
          "output_type": "stream",
          "name": "stdout",
          "text": [
            "er, smile because it happened\n"
          ]
        }
      ]
    },
    {
      "cell_type": "code",
      "source": [
        "#จากข้อความด้านล่าง จงเขียนโปรแกรมเพื่อให้แสดงข้อความ \"because\" ออกที่หน้าจอ\n",
        "msg1 = 'Don’t cry because it’s over, smile because it happened'"
      ],
      "metadata": {
        "id": "Now4gYoHvUy6"
      },
      "execution_count": null,
      "outputs": []
    },
    {
      "cell_type": "markdown",
      "source": [
        "\n",
        "\n",
        "# 🎥 [**คลิกเพื่อชมวิดีโอบน YouTube**](https://www.youtube.com/watch?v=23KI3wXkA-M)"
      ],
      "metadata": {
        "id": "D9gfPprLukjY"
      }
    },
    {
      "cell_type": "markdown",
      "source": [
        "# <font color='darkgreen'>**การแก้ไขและเพิ่มข้อความในสายอักขระ**</font>\n",
        "\n",
        "สายอักขระไม่สามารถแก้ไขข้อมูลอะไรได้(Immutable)\n"
      ],
      "metadata": {
        "id": "2JCVk5ka2PGb"
      }
    },
    {
      "cell_type": "code",
      "source": [
        "msg2 = 'เขาเป็นคนซวย'\n",
        "msg2[8] = 'ร'"
      ],
      "metadata": {
        "id": "TIUksF-Rv3Tw"
      },
      "execution_count": null,
      "outputs": []
    },
    {
      "cell_type": "markdown",
      "source": [
        "แม้ว่าจะไม่สามารถแก้ไขข้อความข้างในได้ แต่ก็สามารถสร้างใหม่ทับตัวเก่าได้"
      ],
      "metadata": {
        "id": "j04eibWUwdBY"
      }
    },
    {
      "cell_type": "code",
      "source": [
        "msg2 = 'เขาเป็นคนซวย'\n",
        "msg2 = msg2[:9]+'ร'+msg2[10:]\n",
        "print(msg2)"
      ],
      "metadata": {
        "id": "CDwr1hij2fPD",
        "colab": {
          "base_uri": "https://localhost:8080/"
        },
        "outputId": "6d69a09d-5087-486f-cdcf-cd34f4ee56cf"
      },
      "execution_count": null,
      "outputs": [
        {
          "output_type": "stream",
          "name": "stdout",
          "text": [
            "เขาเป็นคนรวย\n"
          ]
        }
      ]
    },
    {
      "cell_type": "markdown",
      "source": [
        "ส่วนการเพิ่มข้อความในสายอักขระก็ทำได้โดยเอาสายอักขระเดิมมาบวกกับสิ่งที่ต้องการเพิ่ม"
      ],
      "metadata": {
        "id": "k16RHwn8xsMb"
      }
    },
    {
      "cell_type": "code",
      "source": [
        "c = 'เขาเป็นคนดี'\n",
        "c = c + 'แต่พูด'\n",
        "print(c)"
      ],
      "metadata": {
        "id": "3Xr24C0Ixtbn",
        "colab": {
          "base_uri": "https://localhost:8080/"
        },
        "outputId": "228742e3-e0b5-4eb0-bebe-c50807ff1385"
      },
      "execution_count": null,
      "outputs": [
        {
          "output_type": "stream",
          "name": "stdout",
          "text": [
            "เขาเป็นคนดีแต่พูด\n"
          ]
        }
      ]
    },
    {
      "cell_type": "markdown",
      "source": [],
      "metadata": {
        "id": "IxF8o1YMu-Cg"
      }
    },
    {
      "cell_type": "markdown",
      "source": [
        "# 🎥 [**คลิกเพื่อชมวิดีโอบน YouTube**](https://www.youtube.com/watch?v=LIumk3aEowg)"
      ],
      "metadata": {
        "id": "IgBe5o6pvC5w"
      }
    },
    {
      "cell_type": "markdown",
      "source": [
        "# <font color='darkgreen'>**เมธอดที่ใช้กับในสายอักขระ**</font>\n",
        "<img src='https://qissba.com/wp-content/uploads/2023/04/table-python-string-methods.jpg' width=\"80%\" height=\"80%\">\n"
      ],
      "metadata": {
        "id": "s2WHoLVeyc85"
      }
    },
    {
      "cell_type": "markdown",
      "source": [
        "จากโค๊ดด้านล่างให้ Run แล้วสังเกตผลที่ได้ จากนั้นบอกว่าเมธอดนั้นทำหน้าที่อะไร"
      ],
      "metadata": {
        "id": "Zk93plbAzavk"
      }
    },
    {
      "cell_type": "code",
      "source": [
        "a = 'hello WORLD'\n",
        "print(a.capitalize()) #เปลี่ยนตัวอักษรตัวแรกของข้อความให้เป็นตัวพิมพ์ใหญ่"
      ],
      "metadata": {
        "id": "BdJMByru1_Qf",
        "colab": {
          "base_uri": "https://localhost:8080/"
        },
        "outputId": "7b7f5735-70ba-49c2-b7e9-deb818fdd9f9"
      },
      "execution_count": null,
      "outputs": [
        {
          "output_type": "stream",
          "name": "stdout",
          "text": [
            "Hello world\n"
          ]
        }
      ]
    },
    {
      "cell_type": "code",
      "source": [
        "a = 'HELLO WORLD'\n",
        "print(a.lower())  #"
      ],
      "metadata": {
        "id": "mKP9H87G22N_"
      },
      "execution_count": null,
      "outputs": []
    },
    {
      "cell_type": "code",
      "source": [
        "a = 'hello world'\n",
        "print(a.upper())  #"
      ],
      "metadata": {
        "id": "OIjPksMP3JDv"
      },
      "execution_count": null,
      "outputs": []
    },
    {
      "cell_type": "code",
      "source": [
        "a = 'Python'\n",
        "print(a.center(10,'*'))  #"
      ],
      "metadata": {
        "id": "16EUECXL3UOi"
      },
      "execution_count": null,
      "outputs": []
    },
    {
      "cell_type": "code",
      "source": [
        "a = 'HELLO WORLD'\n",
        "print(a.count('L'))  #"
      ],
      "metadata": {
        "id": "alaLnHWi3ix9"
      },
      "execution_count": null,
      "outputs": []
    },
    {
      "cell_type": "code",
      "source": [
        "a = 'HELLO WORLD'\n",
        "print(a.index('O'))  #"
      ],
      "metadata": {
        "id": "Ct8OVaoI37Sa"
      },
      "execution_count": null,
      "outputs": []
    },
    {
      "cell_type": "code",
      "source": [
        "a = 'HELLO WORLD'\n",
        "print(a.find('OR'))  #"
      ],
      "metadata": {
        "id": "Y0aJDrjI4Jp3"
      },
      "execution_count": null,
      "outputs": []
    },
    {
      "cell_type": "code",
      "source": [
        "a = '07/08/2024'\n",
        "print(a.replace('/','-'))  #"
      ],
      "metadata": {
        "id": "A-qoQI_y4R7d"
      },
      "execution_count": null,
      "outputs": []
    },
    {
      "cell_type": "code",
      "source": [
        "a = '07/08/2024'\n",
        "print(a.split('/'))  #"
      ],
      "metadata": {
        "id": "6u4y8BJs4kvF"
      },
      "execution_count": null,
      "outputs": []
    },
    {
      "cell_type": "code",
      "source": [
        "a = 'abc123'\n",
        "print(a.isalnum())"
      ],
      "metadata": {
        "id": "iHddzv0S4uTr"
      },
      "execution_count": null,
      "outputs": []
    },
    {
      "cell_type": "code",
      "source": [
        "a = 'abcdefg'\n",
        "print(a.isalnum()) #"
      ],
      "metadata": {
        "id": "kIwuiI1s4_XQ"
      },
      "execution_count": null,
      "outputs": []
    },
    {
      "cell_type": "code",
      "source": [
        "a = '12345'\n",
        "print(a.isnumeric())"
      ],
      "metadata": {
        "id": "NQhpNWsb47HP"
      },
      "execution_count": null,
      "outputs": []
    },
    {
      "cell_type": "code",
      "source": [
        "a = 'abcdefg'\n",
        "print(a.isnumeric()) #"
      ],
      "metadata": {
        "id": "h51yqePB6aam"
      },
      "execution_count": null,
      "outputs": []
    },
    {
      "cell_type": "code",
      "source": [
        "a = 'hello world'\n",
        "print(a.islower())"
      ],
      "metadata": {
        "id": "fM1nxpnZ6ita"
      },
      "execution_count": null,
      "outputs": []
    },
    {
      "cell_type": "code",
      "source": [
        "a = 'HELLO WORLD'\n",
        "print(a.islower()) #"
      ],
      "metadata": {
        "id": "L3k434UR6q_J"
      },
      "execution_count": null,
      "outputs": []
    },
    {
      "cell_type": "code",
      "source": [
        "a = 'hello world'\n",
        "print(a.isupper())"
      ],
      "metadata": {
        "id": "sTY7v4IY623-"
      },
      "execution_count": null,
      "outputs": []
    },
    {
      "cell_type": "code",
      "source": [
        "a = 'HELLO WORLD'\n",
        "print(a.isupper()) #"
      ],
      "metadata": {
        "id": "MEAS1Srr67Mt"
      },
      "execution_count": null,
      "outputs": []
    },
    {
      "cell_type": "code",
      "source": [],
      "metadata": {
        "id": "0XDvYKWB8s0T"
      },
      "execution_count": null,
      "outputs": []
    }
  ]
}
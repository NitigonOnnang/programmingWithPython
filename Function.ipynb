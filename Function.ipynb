{
  "nbformat": 4,
  "nbformat_minor": 0,
  "metadata": {
    "colab": {
      "provenance": [],
      "include_colab_link": true
    },
    "kernelspec": {
      "name": "python3",
      "display_name": "Python 3"
    },
    "language_info": {
      "name": "python"
    }
  },
  "cells": [
    {
      "cell_type": "markdown",
      "metadata": {
        "id": "view-in-github",
        "colab_type": "text"
      },
      "source": [
        "<a href=\"https://colab.research.google.com/github/NitigonOnnang/programmingWithPython/blob/main/Function.ipynb\" target=\"_parent\"><img src=\"https://colab.research.google.com/assets/colab-badge.svg\" alt=\"Open In Colab\"/></a>"
      ]
    },
    {
      "cell_type": "markdown",
      "source": [
        "<img src='https://files.realpython.com/media/How-to-Create-Python-Functions-with-Optional-Arguments_Watermarked.f2c8b582aff0.jpg' width='80%'>"
      ],
      "metadata": {
        "id": "kNEKttxuVGsV"
      }
    },
    {
      "cell_type": "markdown",
      "source": [
        "# <font color='darkgreen'>**รูปแบบของฟังก์ชัน**</font>\n",
        "\n",
        "<img src='https://www.learnbyexample.org/wp-content/uploads/python/Python-Function-Syntax.png'>"
      ],
      "metadata": {
        "id": "7dsNHrcDiDHD"
      }
    },
    {
      "cell_type": "markdown",
      "source": [
        "<img src='https://runestone.academy/ns/books/published/fopp/_images/function_calls.gif'>"
      ],
      "metadata": {
        "id": "P3YnwfnRjeaD"
      }
    },
    {
      "cell_type": "markdown",
      "source": [
        "# <font color='darkgreen'>**การสร้างและเรียกใช้ฟังก์ชัน**</font>\n",
        "\n",
        "<font color='blue'>**แบบที่ 1 : ไม่รับพารามิเตอร์  ไม่ส่งค่ากลับ**</font>"
      ],
      "metadata": {
        "id": "Pf8sUzujjuOH"
      }
    },
    {
      "cell_type": "code",
      "execution_count": null,
      "metadata": {
        "id": "CMh_UsJDUVrT",
        "colab": {
          "base_uri": "https://localhost:8080/"
        },
        "outputId": "c107d6da-d5cd-4faf-f741-a7ef12b11af1"
      },
      "outputs": [
        {
          "output_type": "stream",
          "name": "stdout",
          "text": [
            "หวัดดี\n",
            "ขอต้อนรับสู่แผนกอิเล็กทรอนิกส์\n"
          ]
        }
      ],
      "source": [
        "\n",
        "def hello():\n",
        "    print('หวัดดี ')\n",
        "    print('ขอต้อนรับสู่แผนกอิเล็กทรอนิกส์')\n",
        "\n",
        "hello()"
      ]
    },
    {
      "cell_type": "markdown",
      "source": [
        "<font color='blue'>**แบบที่ 2 : รับพารามิเตอร์  ไม่ส่งค่ากลับ**</font>"
      ],
      "metadata": {
        "id": "w6w39UnEnkyn"
      }
    },
    {
      "cell_type": "code",
      "source": [
        "#แบบที่ 2 : รับพารามิเตอร์ ไม่ส่งค่ากลับ\n",
        "def print_hi(name):\n",
        "    print('หวัดดี',name)\n",
        "    print('ขอต้อนรับสู่แผนกอิเล็กทรอนิกส์')\n",
        "\n",
        "print_hi('นิติกร')"
      ],
      "metadata": {
        "id": "6CtgM_9-kvzO"
      },
      "execution_count": null,
      "outputs": []
    },
    {
      "cell_type": "code",
      "source": [
        "#เราจะรับพารามิเตอร์กี่ตัวก็ได้\n",
        "#การรับพารามิเตอร์ 3 ตัว\n",
        "def print_hello(name,age,grade):\n",
        "  print(f'สวัสดีครับคุณ {name} อายุ {age} ปี เกรดเฉลี่ย {grade}')\n",
        "\n",
        "print_hello('สมบูรณ์',18,3.5)"
      ],
      "metadata": {
        "id": "RpKnAUwYltMK"
      },
      "execution_count": null,
      "outputs": []
    },
    {
      "cell_type": "markdown",
      "source": [
        "<font color='blue'>**แบบที่ 3 : ไม่รับพารามิเตอร์  ส่งค่ากลับ(return )**</font>"
      ],
      "metadata": {
        "id": "sLK9Ra5ooaEC"
      }
    },
    {
      "cell_type": "code",
      "source": [
        "#สร้างฟังก์ชันชื่อ digital_wallet\n",
        "def digital_wallet() :\n",
        "  value = 10000\n",
        "  return value*2\n",
        "\n",
        "digital_wallet()"
      ],
      "metadata": {
        "id": "7i6f4JXhiZgr"
      },
      "execution_count": null,
      "outputs": []
    },
    {
      "cell_type": "markdown",
      "source": [
        "<font color='blue'>**แบบที่ 4 : รับพารามิเตอร์  ส่งค่ากลับ(return )**</font>"
      ],
      "metadata": {
        "id": "B_Ur-DmUpfp9"
      }
    },
    {
      "cell_type": "code",
      "source": [
        "def sum(b,a) :\n",
        "  return a+b\n",
        "\n",
        "print(sum(4,6)+20)"
      ],
      "metadata": {
        "id": "gTOfcXa2pnAp"
      },
      "execution_count": null,
      "outputs": []
    },
    {
      "cell_type": "code",
      "source": [
        "#ex1\n",
        "def sutkoon(num1):\n",
        "  print(\"แม่สูตรคูณแม่ \"+str(num1))\n",
        "  print(\"======================\")\n",
        "  for x in range(1,13):\n",
        "    print(f'{num1} x {x} = {num1*x}')\n",
        "  print(\"=== จบการทำงาน =====\")"
      ],
      "metadata": {
        "id": "h2XviDlNp-Lw"
      },
      "execution_count": null,
      "outputs": []
    },
    {
      "cell_type": "markdown",
      "source": [
        "จาก ex1 เป็นฟังก์ชันแบบใด\n"
      ],
      "metadata": {
        "id": "l90GciRDtLE1"
      }
    },
    {
      "cell_type": "code",
      "source": [
        "#ex2\n",
        "def greet(name,age):\n",
        "    print(f\"Hello {name} : {age} year old\")"
      ],
      "metadata": {
        "id": "9YdQZb5-tJ0B"
      },
      "execution_count": null,
      "outputs": []
    },
    {
      "cell_type": "markdown",
      "source": [
        "จาก ex2 เป็นฟังก์ชันแบบใด"
      ],
      "metadata": {
        "id": "FZ6lA2KEtcrf"
      }
    },
    {
      "cell_type": "code",
      "source": [
        "#ex3\n",
        "def find_square(num):\n",
        "    result = num * num\n",
        "    return result\n",
        "\n"
      ],
      "metadata": {
        "id": "3zkPjD5ptppX"
      },
      "execution_count": null,
      "outputs": []
    },
    {
      "cell_type": "markdown",
      "source": [
        "จาก ex3 เป็นฟังก์ชันแบบใด"
      ],
      "metadata": {
        "id": "qMnFuASUttGU"
      }
    },
    {
      "cell_type": "code",
      "source": [
        "#จงเขียนโปรแกรมเพื่อเรียกใช้ฟังก์ชันใน ex1\n",
        "sutkoon(5)"
      ],
      "metadata": {
        "id": "W5wuh2Mpt5O1"
      },
      "execution_count": null,
      "outputs": []
    },
    {
      "cell_type": "code",
      "source": [
        "sutkoon(9)"
      ],
      "metadata": {
        "id": "vrzk7Wk-uk5C"
      },
      "execution_count": null,
      "outputs": []
    },
    {
      "cell_type": "code",
      "source": [
        "#จงเขียนโปรแกรมเพื่อเรียกใช้ฟังก์ชันใน ex2\n",
        "greet('elec',65)"
      ],
      "metadata": {
        "id": "1nnMgziLuSzr"
      },
      "execution_count": null,
      "outputs": []
    },
    {
      "cell_type": "code",
      "source": [
        "#จงเขียนโปรแกรมเพื่อเรียกใช้ฟังก์ชันใน ex3"
      ],
      "metadata": {
        "id": "PNxYS-kDuUYG"
      },
      "execution_count": null,
      "outputs": []
    },
    {
      "cell_type": "markdown",
      "source": [
        "<font color='blue'>**การสร้างฟังก์ชันที่ไม่ระบุจำนวนพารามิเตอร์**</font>\n"
      ],
      "metadata": {
        "id": "REyyXZRquXOg"
      }
    },
    {
      "cell_type": "code",
      "source": [
        "def average(*num):\n",
        "  sum=0\n",
        "  print(num)\n",
        "  for i in num:\n",
        "    sum += i\n",
        "  return sum/len(num)\n",
        "\n",
        "print(average(1,2,3,4,5,6,7,8,9,10))\n",
        "print(average(1,2,3,4,5))"
      ],
      "metadata": {
        "id": "aYGcxefmurE1"
      },
      "execution_count": null,
      "outputs": []
    },
    {
      "cell_type": "code",
      "source": [
        "def print_arguments(**args):\n",
        "    print(args)\n",
        "\n",
        "print_arguments(name='Bob', age=25, job='dev')"
      ],
      "metadata": {
        "id": "mtLdkh_cwkC7"
      },
      "execution_count": null,
      "outputs": []
    },
    {
      "cell_type": "markdown",
      "source": [
        "<font color='blue'>**ขอบเขตของตัวแปร**</font>\n",
        "\n",
        "ปกติแล้วหากในฟังก์ชันมีการสร้างตัวแปรขึ้นมา ตัวแปรนั้นจะหายไปทันทีที่จบการใช้งานฟังก์ชันนั้น หากเรียกใช้ตัวแปรนั้นหลังจากนั้นก็จะพบว่ามันไม่มีตัวตนอยู่แล้ว ไม่สามารถใช้งานได้"
      ],
      "metadata": {
        "id": "6erx_s1Ox3LI"
      }
    },
    {
      "cell_type": "code",
      "source": [
        "def baba():\n",
        "    c = 1\n",
        "\n",
        "baba()\n",
        "print(c)"
      ],
      "metadata": {
        "id": "a20_-p82x2oW"
      },
      "execution_count": null,
      "outputs": []
    },
    {
      "cell_type": "markdown",
      "source": [
        "หากต้องการให้ตัวแปรที่ถูกนิยามภายในฟังก์ชันั้นคงอยู่ต่อไปแม้ฟังก์ชันจะทำงาน จบลงแล้ว แบบนี้จะต้องใช้คำสั่ง global เพื่อประกาศว่าตัวแปรนั้นเป็นตัวแปรสากล สามารถใช้ได้ทั้งโปรแกรม การประกาศนั้นต้องทำการที่จะป้อนค่าให้ตัวแปร"
      ],
      "metadata": {
        "id": "9l_t0VhVyO9z"
      }
    },
    {
      "cell_type": "code",
      "source": [
        "def baba():\n",
        "    global c\n",
        "    c = 1\n",
        "\n",
        "baba()\n",
        "print(c)"
      ],
      "metadata": {
        "id": "yHPqTydDyQPy"
      },
      "execution_count": null,
      "outputs": []
    },
    {
      "cell_type": "markdown",
      "source": [
        "โดยปกติแล้วกรณีที่ตัวแปรภายในฟังก์ชันชื่อซ้ำกับนอกฟังก์ชันจะถือว่าเป็น ตัวแปรคนละตัวเดียวกัน และการกระทำภายในฟังก์ชันนั้นจะเป็นการทำกับตัวแปรภายในฟังก์ชัน ไม่ส่งผลต่อตัวแปรนอกฟังก์ชัน"
      ],
      "metadata": {
        "id": "TajP6c8vyYxH"
      }
    },
    {
      "cell_type": "code",
      "source": [
        "def baba():\n",
        "    a = 3\n",
        "    print(a)\n",
        "\n",
        "a = 2\n",
        "baba()\n",
        "print(a)"
      ],
      "metadata": {
        "id": "GXCZktcjyeU5"
      },
      "execution_count": null,
      "outputs": []
    },
    {
      "cell_type": "markdown",
      "source": [
        "แต่ในกรณีที่ภายในฟังก์ชันไม่ได้กำหนดตัวแปรชื่อเดียวกันอยู่ ตัวแปรภายในฟังก์ชันนั้นจึงเป็นตัวแปรที่ถูกนิยามจากภายนอก"
      ],
      "metadata": {
        "id": "J5KWT9tWzIst"
      }
    },
    {
      "cell_type": "code",
      "source": [
        "def baba():\n",
        "    print(a)\n",
        "\n",
        "a = 2\n",
        "baba()"
      ],
      "metadata": {
        "id": "TZe6vsEhzLp2"
      },
      "execution_count": null,
      "outputs": []
    },
    {
      "cell_type": "markdown",
      "source": [
        "สรุปคือเวลาที่มีการเรียกใช้ตัวแปรภายในฟังก์ชัน โปรแกรมจะทำการหาว่ามีตัวแปรชื่อนั้นอยู่ภายในฟังก์ชันหรือเปล่าก่อน ถ้ามีก็ใช้ตัวแปรนั้น แต่ถ้าไม่มีจึงไปหานอกฟังก์ชัน"
      ],
      "metadata": {
        "id": "a2uSTBPlzNmS"
      }
    },
    {
      "cell_type": "code",
      "source": [],
      "metadata": {
        "id": "TsSM0Jh9zbQQ"
      },
      "execution_count": null,
      "outputs": []
    },
    {
      "cell_type": "markdown",
      "source": [
        "# <font color='darkcyan'>**แบบฝึกหัด**</font>"
      ],
      "metadata": {
        "id": "V30drvAJc4hp"
      }
    },
    {
      "cell_type": "markdown",
      "source": [
        "1. จงสร้างฟังก์ชันชื่อ say_hello() ที่พิมพ์ข้อความ \"Hello, world!!\""
      ],
      "metadata": {
        "id": "pCL5XDmmdsIO"
      }
    },
    {
      "cell_type": "code",
      "source": [],
      "metadata": {
        "id": "ZDA0zB7ign66"
      },
      "execution_count": null,
      "outputs": []
    },
    {
      "cell_type": "markdown",
      "source": [
        "2. จงสร้างฟังก์ชันที่มีการรับค่าพารามิเตอร์ ชื่อ greet(name) ที่รับชื่อเป็นพารามิเตอร์ และพิมพ์ข้อความทักทายออกมา เช่น \"สวัสดี,\""
      ],
      "metadata": {
        "id": "Vj6w0fuAgtOE"
      }
    },
    {
      "cell_type": "code",
      "source": [],
      "metadata": {
        "id": "o6IWAIU6gsb2"
      },
      "execution_count": null,
      "outputs": []
    },
    {
      "cell_type": "markdown",
      "source": [
        "3. จงสร้างฟังก์ชัน product(x,y) และคืนค่าเป็นผลคูณ"
      ],
      "metadata": {
        "id": "d4oUltbSuRk0"
      }
    },
    {
      "cell_type": "code",
      "source": [],
      "metadata": {
        "id": "2glB40_evp2_"
      },
      "execution_count": null,
      "outputs": []
    },
    {
      "cell_type": "markdown",
      "source": [
        "4. จงสร้างฟังก์ชันเพื่อรับค่าตัวเลขแบบไม่ระบุจำนวน จากนั้นแสดงตัวเลขที่มีค่ามากที่สุดและค่าน้อยที่สุด"
      ],
      "metadata": {
        "id": "ndcAOz2gvy43"
      }
    },
    {
      "cell_type": "code",
      "source": [],
      "metadata": {
        "id": "WlKPsvbMw4GI"
      },
      "execution_count": null,
      "outputs": []
    },
    {
      "cell_type": "markdown",
      "source": [
        "5. สร้างฟังก์ชันชื่อ milse_to_km ที่ทำหน้าที่เปลี่ยนระยะทางจากไมล์เป็นกิโลเมตร   โดยรับค่าไมล์เข้ามาแล้วแสดงผลลัพธ์ที่ได้\n",
        "\n",
        "\n"
      ],
      "metadata": {
        "id": "iF6xp-ZRz9l-"
      }
    },
    {
      "cell_type": "code",
      "source": [],
      "metadata": {
        "id": "2LOnjZ1j3Nyo"
      },
      "execution_count": null,
      "outputs": []
    },
    {
      "cell_type": "markdown",
      "source": [
        "6. จงสร้างฟังก์ชันชื่อ is_divisable_by_11 โดยรับตัวเลขเข้ามา 1 ค่า จากนั้นส่งค่ากลับว่าหารด้วย 11 ลงตัวหรือไม่"
      ],
      "metadata": {
        "id": "IexfuHXz3QGA"
      }
    },
    {
      "cell_type": "code",
      "source": [],
      "metadata": {
        "id": "XBaIiGbk4AZD"
      },
      "execution_count": null,
      "outputs": []
    },
    {
      "cell_type": "markdown",
      "source": [
        "7. จงสร้างฟังก์ชันชื่อ is_palindrone เพื่อรับข้อความเข้ามา จากนั้นส่งค่ากลับว่าเป็น palindrome หรือไม่"
      ],
      "metadata": {
        "id": "Yi5F-PPu4LmC"
      }
    },
    {
      "cell_type": "code",
      "source": [],
      "metadata": {
        "id": "G7UDsMlH4h-5"
      },
      "execution_count": null,
      "outputs": []
    },
    {
      "cell_type": "markdown",
      "source": [
        "8. จงสร้างฟังก์ชันชื่่อ most_common_char เพื่อใช้หาตัวอักษรที่ซ้ำมากที่สุด โดยรับข้อความเข้ามา จากนั้นส่งตัวอักษรที่ซ้ำมากที่สุดกลับมา"
      ],
      "metadata": {
        "id": "DpmlBlPy58vV"
      }
    },
    {
      "cell_type": "code",
      "source": [],
      "metadata": {
        "id": "OlmOcS5q60K2"
      },
      "execution_count": null,
      "outputs": []
    }
  ]
}
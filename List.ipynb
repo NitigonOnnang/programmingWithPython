{
  "nbformat": 4,
  "nbformat_minor": 0,
  "metadata": {
    "colab": {
      "provenance": [],
      "include_colab_link": true
    },
    "kernelspec": {
      "name": "python3",
      "display_name": "Python 3"
    },
    "language_info": {
      "name": "python"
    }
  },
  "cells": [
    {
      "cell_type": "markdown",
      "metadata": {
        "id": "view-in-github",
        "colab_type": "text"
      },
      "source": [
        "<a href=\"https://colab.research.google.com/github/NitigonOnnang/programmingWithPython/blob/main/List.ipynb\" target=\"_parent\"><img src=\"https://colab.research.google.com/assets/colab-badge.svg\" alt=\"Open In Colab\"/></a>"
      ]
    },
    {
      "cell_type": "markdown",
      "source": [
        "<img src='https://towardsdatascience.com/wp-content/uploads/2022/05/1mqwg-HnWZQcHQ3-k1GAi9g.png'>"
      ],
      "metadata": {
        "id": "wnfULicGZD9Z"
      }
    },
    {
      "cell_type": "markdown",
      "source": [
        "ลิสต (List) เป็นโครงสร้างข้อมูลชนิดหนึ่ง\n",
        "\n",
        "📝ใช้เก็บข้อมูลแบบลำดับ (Sequence) โดยมี Index เป็นตัวระบุตำแหน่ง\n",
        " ในการเข้าถึงข้อมูล\n",
        "\n",
        "📝สามารถเก็บข้อมูลจำนวนมากในลิสต์เดียว\n",
        "\n",
        "📝สามารถเก็บข้อมูลหลากหลายชนิด (Data type) ในลิสต์เดียว"
      ],
      "metadata": {
        "id": "lEdCT-QS9I6W"
      }
    },
    {
      "cell_type": "markdown",
      "source": [
        "# **ลิสต์มีประโยชน์อย่างไร?**\n",
        "\n",
        "👨🏻‍💻👨🏻‍💻จงเขียนโปรแกรมที่เก็บคะแนนสอบของนักศึกษา 100 คน\n",
        "\n",
        "❌ถ้าไม่มีลิสต์\n",
        "\n",
        "จะต้องใช้ตัวแปรถึง 💯 ตัวแปร ในการเก็บคะแนนสอบของนักศึกษา\n",
        "แต่ละคน 🤮🤮 เช่น score_1 score_2 ….. score_100\n",
        "\n",
        "✅✅ถ้ามีลิสต์\n",
        "\n",
        "🤩🤩ใช้เพียงลิสต์ 1 ลิสต์ เก็บคะแนนของนักศึกษาแต่ละคนลงในแต่ละ\n",
        "ตำแหน่งของลิสต์"
      ],
      "metadata": {
        "id": "bAJzzl5nDBbT"
      }
    },
    {
      "cell_type": "markdown",
      "source": [
        "# **ลิสต์ในภาษาไพธอน**\n",
        "💡 ลิสต์ เป็นตัวแปรประเภทหนึ่งในภาษาไธทอน\n",
        "\n",
        "💡 การประกาศลิสต์ ข้อมูล (สมาชิก) จะอยู่ภายในเครื่องหมาย [ ]\n",
        "\n",
        "💡 คั่นสมาชิกแต่\n",
        "ละตัวด้วยเครื่องหมายคอมมา ,"
      ],
      "metadata": {
        "id": "ndxDnzHHEAzo"
      }
    },
    {
      "cell_type": "markdown",
      "source": [
        "#ตัวอย่างการสร้าง List\n",
        "```python\n",
        "lst1 = [1,2,2,3,5,4,6]\n",
        "lst2 = [\"Red\", \"Green\", \"Blue\"]\n",
        "print(lst1)\n",
        "print(lst2)\n",
        "```\n"
      ],
      "metadata": {
        "id": "m2coWlq7XHPr"
      }
    },
    {
      "cell_type": "markdown",
      "source": [
        "# 📣List สามารถประกอบไปด้วยข้อมูลต่างชนิดกันก็ได้ ดังตัวอย่าง"
      ],
      "metadata": {
        "id": "szYT03nuY9dM"
      }
    },
    {
      "cell_type": "code",
      "source": [
        "details = [\"Electronics\", 18, \"cmtc\", 9.8,True]\n",
        "print(details)\n"
      ],
      "metadata": {
        "id": "w3FQcUIXZNVK"
      },
      "execution_count": null,
      "outputs": []
    },
    {
      "cell_type": "markdown",
      "source": [
        "<img src='https://drive.google.com/uc?id=1717a-njJsk0YXHcEcB2DK2NjGt-SW9l0'>"
      ],
      "metadata": {
        "id": "QLquMJ0naHK6"
      }
    },
    {
      "cell_type": "code",
      "source": [
        "colors = [\"Red\", \"Green\", \"Blue\", \"Yellow\", \"Green\"]\n",
        "#          [0]      [1]     [2]      [3]      [4]\n",
        "print(colors[2])"
      ],
      "metadata": {
        "id": "waDId8lJanV-"
      },
      "execution_count": null,
      "outputs": []
    },
    {
      "cell_type": "markdown",
      "source": [
        "## **🔮 การอ้างตำแหน่งแบบบวก**"
      ],
      "metadata": {
        "id": "FXCWeeH_awmX"
      }
    },
    {
      "cell_type": "code",
      "source": [
        "colors = [\"Red\", \"Green\", \"Blue\", \"Yellow\", \"Green\"]\n",
        "#          [0]      [1]     [2]      [3]      [4]\n",
        "print(colors[2])\n",
        "print(colors[4])\n",
        "print(colors[0])\n"
      ],
      "metadata": {
        "id": "zKwWlbEGbF08"
      },
      "execution_count": null,
      "outputs": []
    },
    {
      "cell_type": "markdown",
      "source": [
        "## **🔮 การอ้างตำแหน่งแบบลบ**"
      ],
      "metadata": {
        "id": "bCex8imnbQY4"
      }
    },
    {
      "cell_type": "code",
      "source": [
        "colors = [\"Red\", \"Green\", \"Blue\", \"Yellow\", \"Green\"]\n",
        "#          [-5]    [-4]    [-3]     [-2]      [-1]\n",
        "print(colors[-1])\n",
        "print(colors[-3])\n",
        "print(colors[-5])\n"
      ],
      "metadata": {
        "id": "moPhj_agbVms"
      },
      "execution_count": null,
      "outputs": []
    },
    {
      "cell_type": "markdown",
      "source": [
        "## **🔍🔍การตรวจสอบสมาชิกใน List**\n",
        "เราสามารถใช้ if เพื่อตรวจสอบสมาชิกใน List ได้ ตามตัวอย่าง\n"
      ],
      "metadata": {
        "id": "U8q-ReJgboWE"
      }
    },
    {
      "cell_type": "code",
      "source": [
        "# ตัวอย่างที่ 1\n",
        "colors = [\"Red\", \"Green\", \"Blue\", \"Yellow\", \"Green\"]\n",
        "if \"Yellow\" in colors:\n",
        "    print(\"Yellow is present.\")\n",
        "else:\n",
        "    print(\"Yellow is absent.\")\n"
      ],
      "metadata": {
        "id": "vlOYR8lrcG6s"
      },
      "execution_count": null,
      "outputs": []
    },
    {
      "cell_type": "code",
      "source": [
        "# ตัวอย่างที่ 2\n",
        "colors = [\"Red\", \"Green\", \"Blue\", \"Yellow\", \"Green\"]\n",
        "if \"Orange\" in colors:\n",
        "    print(\"Orange is present.\")\n",
        "else:\n",
        "    print(\"Orange is absent.\")\n"
      ],
      "metadata": {
        "id": "xoghs49lcKLg"
      },
      "execution_count": null,
      "outputs": []
    },
    {
      "cell_type": "markdown",
      "source": [
        "เราสามารถใช้คำสั่ง Loop เพื่อเข้าถึงสมาชิกใน List ได้"
      ],
      "metadata": {
        "id": "tp0QBoWPcGe4"
      }
    },
    {
      "cell_type": "code",
      "source": [
        "# การใช้ Loop ในการเข้าถึงสมาชิก\n",
        "animals = [\"cat\", \"dog\", \"bat\", \"mouse\", \"pig\", \"horse\", \"donkey\", \"goat\", \"cow\"]\n",
        "for ch in animals:\n",
        "    print(ch)\n"
      ],
      "metadata": {
        "id": "XpR32LeOc2Yl"
      },
      "execution_count": null,
      "outputs": []
    },
    {
      "cell_type": "markdown",
      "source": [
        "# **เมธอดที่สำคัญใน List**\n",
        "<img src='https://drive.google.com/uc?id=1rTp5yQwMU7AQUmzHd3LzkdijKbQLzIHP'>"
      ],
      "metadata": {
        "id": "jmmDPsKJdtlx"
      }
    },
    {
      "cell_type": "code",
      "source": [
        "#1. append()\n",
        "colors = [\"voilet\", \"indigo\", \"blue\"]\n",
        "colors.append(\"green\")\n",
        "print(colors)\n"
      ],
      "metadata": {
        "id": "J2PID3mneVxA"
      },
      "execution_count": null,
      "outputs": []
    },
    {
      "cell_type": "code",
      "source": [
        "# 2. insert()\n",
        "colors = [\"voilet\", \"indigo\", \"blue\"]\n",
        "#           [0]        [1]      [2]\n",
        "\n",
        "colors.insert(1, \"green\")   #inserts item at index 1\n",
        "# updated list: colors = [\"voilet\", \"green\", \"indigo\", \"blue\"]\n",
        "#       indexs              [0]       [1]       [2]      [3]\n",
        "\n",
        "print(colors)\n"
      ],
      "metadata": {
        "id": "ARkRjIhsebY7"
      },
      "execution_count": null,
      "outputs": []
    },
    {
      "cell_type": "code",
      "source": [
        "# 3. pop()\n",
        "colors = [\"Red\", \"Green\", \"Blue\", \"Yellow\", \"Green\"]\n",
        "colors.pop()        #removes the last item of the list\n",
        "print(colors)\n"
      ],
      "metadata": {
        "id": "WV7HaRiQet2j"
      },
      "execution_count": null,
      "outputs": []
    },
    {
      "cell_type": "code",
      "source": [
        "#4. remove()\n",
        "colors = [\"Red\", \"Green\", \"Blue\", \"Yellow\", \"Green\"]\n",
        "colors.remove(\"Green\")  #removes the first matching item\n",
        "print(colors)"
      ],
      "metadata": {
        "id": "NSxokVPxeyQW"
      },
      "execution_count": null,
      "outputs": []
    },
    {
      "cell_type": "code",
      "source": [
        "#5. remove\n",
        "colors = [\"Red\", \"Green\", \"Blue\", \"Yellow\", \"Green\"]\n",
        "colors.remove(\"Green\")  #removes the first matching item\n",
        "print(colors)"
      ],
      "metadata": {
        "id": "h6Ltcm3Ee5HH"
      },
      "execution_count": null,
      "outputs": []
    },
    {
      "cell_type": "code",
      "source": [
        "#6. reverse()\n",
        "colors = [\"Red\", \"Green\", \"Blue\", \"Yellow\", \"Green\"]\n",
        "colors.reverse()\n",
        "print(colors)"
      ],
      "metadata": {
        "id": "cCyy5zXLfEQn"
      },
      "execution_count": null,
      "outputs": []
    },
    {
      "cell_type": "code",
      "source": [
        "#7.sort()\n",
        "colors = [\"Red\", \"Green\", \"Blue\", \"Yellow\", \"Green\"]\n",
        "colors.sort()\n",
        "print(colors)"
      ],
      "metadata": {
        "id": "6IW5gcwRfHof"
      },
      "execution_count": null,
      "outputs": []
    },
    {
      "cell_type": "code",
      "source": [
        "#8. index()\n",
        "colors = [\"Red\", \"Green\", \"Blue\", \"Yellow\", \"Green\"]\n",
        "print(colors.index(\"Green\"))"
      ],
      "metadata": {
        "id": "jJZO5JSZfPNc"
      },
      "execution_count": null,
      "outputs": []
    },
    {
      "cell_type": "code",
      "source": [
        "#9. count()\n",
        "colors = [\"Red\", \"Green\", \"Blue\", \"Yellow\", \"Green\"]\n",
        "print(colors.count(\"Green\"))"
      ],
      "metadata": {
        "id": "s_Qsal9ZfU6Y"
      },
      "execution_count": null,
      "outputs": []
    },
    {
      "cell_type": "code",
      "source": [
        "#10. clear()\n",
        "colors = [\"Red\", \"Green\", \"Blue\", \"Yellow\", \"Green\"]\n",
        "colors.clear()\n",
        "print(colors)"
      ],
      "metadata": {
        "id": "QU1N22CSfY45"
      },
      "execution_count": null,
      "outputs": []
    },
    {
      "cell_type": "markdown",
      "source": [
        "# **ตัวอย่างการโค้ด**"
      ],
      "metadata": {
        "id": "D16XIcBPfd3-"
      }
    },
    {
      "cell_type": "code",
      "execution_count": null,
      "metadata": {
        "id": "99KdxYCeAbwO"
      },
      "outputs": [],
      "source": [
        "#ตัวอย่างที่ 1 : ใช้ลิสต์เก็บข้อมูลเพื่อนนำมาใช้ภายหลัง\n",
        "#อ่านข้อมูลเข้ามา n ตัว\n",
        "n = int(input('ป้อนจำนวนตัวเลขที่ต้องการรับ : '))\n",
        "data = []\n",
        "for k in range(n):\n",
        "     data.append( float(input('ป้อนเลขจำนวนเต็มหรือทศนิยม : ')) )\n",
        "print(data)"
      ]
    },
    {
      "cell_type": "code",
      "source": [
        "#ตัวอย่างที่ 2 : ต้องการหยิบข้อมูลในลิสต์จากซ้ายไปขวามาประมวลผลทีละตัว\n",
        "#ต้องการนับว่าลิสต์ x มีข้อมูลเท่ากับ e กี่ตัว\n",
        "# ใช้ for e in x\n",
        "c = 0\n",
        "msg = 'There are no mistakes, only opportunities'\n",
        "for d in msg :\n",
        "     if d == 'e' :\n",
        "         c += 1\n",
        "print('ในข้อความ '+ msg +\" มีตัว 'e' อยู่ทั้งหมด \",c,' ตัว')"
      ],
      "metadata": {
        "id": "DXsQ94jJD5lf"
      },
      "execution_count": null,
      "outputs": []
    },
    {
      "cell_type": "code",
      "source": [
        "#ตัวอย่างที่ 3 : ต้องการหยิบข้อมูลของลิสต์ในช่วงที่สนใจมาประมวลผล\n",
        "# ต้องการหาคะแนนรวมที่เก็บในลิสต์ x โดยขอไม่รวมคะแนนที่น้อยสุดและมากสุด (ตัดออกอย่างละหนึ่งตัว)\n",
        "# ใช้ for e in x[a:b:c]\n",
        "s = 0\n",
        "x = [9.75,6.72,8.83,9.19,10]\n",
        "for d in sorted(x)[1:-1] :\n",
        "    s += d\n",
        "print('คะแนนที่ได้คือ ',s)"
      ],
      "metadata": {
        "id": "F9BVD_wAG4GN"
      },
      "execution_count": null,
      "outputs": []
    },
    {
      "cell_type": "code",
      "source": [
        "#ตัวอย่างที่ 4 : ต้องการปรับเปลี่ยนค่าในลิสต์ ใช้\n",
        "#   for i in range(len(x)) :\n",
        "#        x[i] = ...\n",
        "# x เป็นลิสต์เก็บคะแนน ต้องการปรับช่องที่มีค่าน้อยกว่า 30 ให้มีค่าเพิ่มอีก 10%\n",
        "x = [80,76,45,63,27,30,20,25,40]\n",
        "print('คะแนนเดิมคือ : ',x)\n",
        "for i in range(len(x)) :\n",
        "     if x[i] < 30 :\n",
        "          x[i] += 0.1*x[i]\n",
        "print('คะแนนใหม่คือ : ',x)"
      ],
      "metadata": {
        "id": "RAFHC0ZxIYcM"
      },
      "execution_count": null,
      "outputs": []
    },
    {
      "cell_type": "code",
      "source": [
        "#ต้องการหยิบข้อมูลแต่ละตัว พร้อมกับ index ของตัวนั้น ๆ\n",
        "t = [80,76,45,63,27,30,20,25,40]\n",
        "for i in range(len(t)) :\n",
        "     c = t[i]\n",
        "     print(i,c)"
      ],
      "metadata": {
        "id": "dgMfrVyAL0mF"
      },
      "execution_count": null,
      "outputs": []
    },
    {
      "cell_type": "code",
      "source": [
        "#ต้องการหยิบข้อมูลในลิสต์จากขวามาซ้ายทีละตัว\n",
        "t = [80,76,45,63,27,30,20,25,40]\n",
        "for e in t[::-1] :\n",
        "  print(e)"
      ],
      "metadata": {
        "id": "_VyoW7tAMfT_"
      },
      "execution_count": null,
      "outputs": []
    },
    {
      "cell_type": "code",
      "source": [
        "#ต้องการหยิบข้อมูลในลิสต์มาประมวลผลจนกว่าเงื่อนไขหนึ่งจะเป็นจริง\n",
        "t = [80,76,45,63,27,30,20,25,40,74,-70,85,33]\n",
        "for e in t :\n",
        "     if เงื่อนไขที่ต้องการ :\n",
        "           ...\n",
        "           break\n",
        "     ...\n",
        "else :\n",
        "     ... # มาทำที่นี่ ถ้าไม่พบเงื่อนไขที่ต้องการเลย"
      ],
      "metadata": {
        "id": "WcaK5rQMdhaW"
      },
      "execution_count": null,
      "outputs": []
    },
    {
      "cell_type": "code",
      "source": [
        "#ต้องการหยิบข้อมูลในลิสต์ตามลำดับที่เรียงจากข้อมูลน้อยสุดไปข้อมูลมากสุดในลิสต์\n",
        "t = [80,76,45,63,27,30,20,25,40,74,-70,85,33]\n",
        "for e in sorted(t) :\n",
        "      ...\n"
      ],
      "metadata": {
        "id": "tRfBDX4Cheln"
      },
      "execution_count": null,
      "outputs": []
    },
    {
      "cell_type": "code",
      "source": [
        "#ต้องการหยิบข้อมูลในลิสต์ตามลำดับที่เรียงจากข้อมูลมากสุดไปข้อมูลน้อยสุดในลิสต์\n",
        "t = [80,76,45,63,27,30,20,25,40,74,-70,85,33]\n",
        "for e in sorted(t)[::-1] :\n",
        "      ..."
      ],
      "metadata": {
        "id": "6ywCymith1tK"
      },
      "execution_count": null,
      "outputs": []
    },
    {
      "cell_type": "code",
      "source": [
        "#ต้องการหยิบข้อมูลในลิสต์จากซ้ายไปขวามาประมวลผลทีละคู่ข้อมูลที่ติดกัน\n",
        "t = [80,76,45,63,27,30,20,25,40,74,-70,85,33]\n",
        "for k in range(len(t)-1) :\n",
        "     if t[k] > t[k+1] :\n",
        "          print(\"False\")\n",
        "          break\n",
        "else:\n",
        "    print(\"True\")"
      ],
      "metadata": {
        "id": "uXUeu9hSnKGU"
      },
      "execution_count": null,
      "outputs": []
    },
    {
      "cell_type": "code",
      "source": [
        "#ต้องการหยิบข้อมูลทุก ๆ คู่ในลิสต์(ไม่จำเป็นต้องติดกัน) มาประมวลผล\n",
        "c = 0\n",
        "t = [80,76,45,63,27,30,20,25,40,74,-70,85,33]\n",
        "for i in range(len(t)) :\n",
        "     for j in range(i+1,len(t)) :\n",
        "          if t[i] > t[j] :\n",
        "              c += 1\n",
        "print(c)"
      ],
      "metadata": {
        "id": "tyah_ya7nto-"
      },
      "execution_count": null,
      "outputs": []
    },
    {
      "cell_type": "code",
      "source": [],
      "metadata": {
        "id": "jhYxB6ntoT-K"
      },
      "execution_count": null,
      "outputs": []
    }
  ]
}